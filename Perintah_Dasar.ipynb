{
  "nbformat": 4,
  "nbformat_minor": 0,
  "metadata": {
    "colab": {
      "name": "Perintah Dasar.ipynb",
      "provenance": [],
      "toc_visible": true,
      "authorship_tag": "ABX9TyOoXs/Pq22zHQtm3NZlhW3a",
      "include_colab_link": true
    },
    "kernelspec": {
      "name": "python3",
      "display_name": "Python 3"
    },
    "language_info": {
      "name": "python"
    }
  },
  "cells": [
    {
      "cell_type": "markdown",
      "metadata": {
        "id": "view-in-github",
        "colab_type": "text"
      },
      "source": [
        "<a href=\"https://colab.research.google.com/github/jihadul4kbar/Meyelam-dalam-AI-ML-DL/blob/main/Perintah_Dasar.ipynb\" target=\"_parent\"><img src=\"https://colab.research.google.com/assets/colab-badge.svg\" alt=\"Open In Colab\"/></a>"
      ]
    },
    {
      "cell_type": "markdown",
      "metadata": {
        "id": "FKw2AyGvtlcw"
      },
      "source": [
        "# Fundametal Deep Learning"
      ]
    },
    {
      "cell_type": "markdown",
      "metadata": {
        "id": "QD53RSoZtycD"
      },
      "source": [
        "## Ekosistem Colab"
      ]
    },
    {
      "cell_type": "code",
      "metadata": {
        "colab": {
          "base_uri": "https://localhost:8080/"
        },
        "id": "niewmMtOkkkF",
        "outputId": "42ce38f5-7282-4399-eed3-1cfd9c45f40b"
      },
      "source": [
        "# Melihat versi Python yang digunakan\n",
        "!python --version"
      ],
      "execution_count": 2,
      "outputs": [
        {
          "output_type": "stream",
          "text": [
            "Python 3.7.11\n"
          ],
          "name": "stdout"
        }
      ]
    },
    {
      "cell_type": "code",
      "metadata": {
        "colab": {
          "base_uri": "https://localhost:8080/"
        },
        "id": "1oiYVGAZta6U",
        "outputId": "6d3bc98e-5e0a-4540-de0a-ac38ed61b3cd"
      },
      "source": [
        "# Melihat versi dan detail tensorflow yang digunakan\n",
        "!pip list | grep tensor"
      ],
      "execution_count": 4,
      "outputs": [
        {
          "output_type": "stream",
          "text": [
            "tensorboard                   2.5.0\n",
            "tensorboard-data-server       0.6.1\n",
            "tensorboard-plugin-wit        1.8.0\n",
            "tensorflow                    2.5.0\n",
            "tensorflow-datasets           4.0.1\n",
            "tensorflow-estimator          2.5.0\n",
            "tensorflow-gcs-config         2.5.0\n",
            "tensorflow-hub                0.12.0\n",
            "tensorflow-metadata           1.1.0\n",
            "tensorflow-probability        0.13.0\n"
          ],
          "name": "stdout"
        }
      ]
    },
    {
      "cell_type": "code",
      "metadata": {
        "id": "IwtVajvlurdS"
      },
      "source": [
        ""
      ],
      "execution_count": null,
      "outputs": []
    }
  ]
}